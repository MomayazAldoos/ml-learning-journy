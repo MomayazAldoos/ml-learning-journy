{
 "cells": [
  {
   "cell_type": "code",
   "execution_count": 8,
   "id": "a633983c-4ca6-492f-a732-29eb18b3fc83",
   "metadata": {},
   "outputs": [
    {
     "name": "stdout",
     "output_type": "stream",
     "text": [
      "Starting my ML journy\n",
      "Date October 28, 2025\n",
      "Goal: Matser pandas basics in 1 hour\n"
     ]
    }
   ],
   "source": [
    "import pandas as pd\n",
    "import numpy as np\n",
    "import matplotlib.pyplot as plt\n",
    "\n",
    "print(\"Starting my ML journy\")\n",
    "print(\"Date\", \"October 28, 2025\")\n",
    "print(\"Goal: Matser pandas basics in 1 hour\")"
   ]
  },
  {
   "cell_type": "code",
   "execution_count": 9,
   "id": "85810f20-875c-45a4-a8a4-650de69ca557",
   "metadata": {},
   "outputs": [
    {
     "name": "stdout",
     "output_type": "stream",
     "text": [
      "My Target Companies:\n",
      "          Company  Founded  Employees Industry     Target_Role\n",
      "0         Spotify     2006       9000    Music     ML Engineer\n",
      "1          Klarna     2005       7000  Fintech    Risk Analyst\n",
      "2            King     2003       2000   Gaming  Data Scientist\n",
      "3  Epidemic Sound     2009        500    Music     ML Engineer\n",
      "4         iZettle     2010        600  Fintech    Data Analyst\n"
     ]
    }
   ],
   "source": [
    "# Creating my first dataframe -  Swedish tech companies data\n",
    "companies = {'Company':['Spotify', 'Klarna', 'King', 'Epidemic Sound', 'iZettle'],\n",
    "            'Founded': [2006, 2005, 2003, 2009, 2010], \n",
    "            'Employees': [9000, 7000, 2000, 500, 600],\n",
    "            'Industry': ['Music', 'Fintech', 'Gaming', 'Music', 'Fintech'], \n",
    "            'Target_Role':['ML Engineer', 'Risk Analyst', 'Data Scientist', 'ML Engineer', 'Data Analyst']}\n",
    "df = pd.DataFrame(companies)\n",
    "print(\"My Target Companies:\")\n",
    "print(df)"
   ]
  },
  {
   "cell_type": "code",
   "execution_count": 26,
   "id": "8ce7a6a6-ac53-4041-9d0f-1343a17871e0",
   "metadata": {},
   "outputs": [
    {
     "name": "stdout",
     "output_type": "stream",
     "text": [
      "Shape: (5, 5)\n",
      "\n",
      "Column names:  ['Company', 'Founded', 'Employees', 'Industry', 'Target_Role']\n",
      "\n",
      "Data types: \n",
      "Company        object\n",
      "Founded         int64\n",
      "Employees       int64\n",
      "Industry       object\n",
      "Target_Role    object\n",
      "dtype: object\n",
      "\n",
      "Row names:    Company  Founded  Employees Industry     Target_Role\n",
      "0  Spotify     2006       9000    Music     ML Engineer\n",
      "1   Klarna     2005       7000  Fintech    Risk Analyst\n",
      "2     King     2003       2000   Gaming  Data Scientist\n"
     ]
    }
   ],
   "source": [
    "# Explore the data\n",
    "print(\"Shape:\", df.shape)\n",
    "print(\"\\nColumn names: \", df.columns.tolist())\n",
    "print(\"\\nData types: \")\n",
    "print(df.dtypes)\n",
    "print(\"\\nThe third Rows:\", df.head(3))"
   ]
  },
  {
   "cell_type": "code",
   "execution_count": 35,
   "id": "8931f6ed-7928-47ed-b2a0-3e1bc7b78ca8",
   "metadata": {},
   "outputs": [
    {
     "name": "stdout",
     "output_type": "stream",
     "text": [
      "\n",
      "Fintech companies I'm targeting :\n",
      "   Company  Founded  Employees Industry   Target_Role\n",
      "1   Klarna     2005       7000  Fintech  Risk Analyst\n",
      "4  iZettle     2010        600  Fintech  Data Analyst\n",
      "\n",
      "Companies recently founded are: \n",
      "          Company  Founded\n",
      "0         Spotify     2006\n",
      "3  Epidemic Sound     2009\n",
      "4         iZettle     2010\n",
      "\n",
      " My Application Targets: \n",
      "          Company     Target_Role  Employees\n",
      "0         Spotify     ML Engineer       9000\n",
      "1          Klarna    Risk Analyst       7000\n",
      "2            King  Data Scientist       2000\n",
      "3  Epidemic Sound     ML Engineer        500\n",
      "4         iZettle    Data Analyst        600\n"
     ]
    }
   ],
   "source": [
    "# Filter Fintech Companies \n",
    "fintech_companies = df[df[\"Industry\"]==\"Fintech\" ]\n",
    "print(\"\\nFintech companies I'm targeting :\")\n",
    "print(fintech_companies)\n",
    "\n",
    "# Companies founded after 2005\n",
    "recent_compnaies = df[df['Founded']> 2005]\n",
    "print(\"\\nCompanies recently founded are: \")\n",
    "print(recent_compnaies[[\"Company\", \"Founded\"]])\n",
    "\n",
    "# Select specific columns \n",
    "target_info = df[['Company', 'Target_Role', 'Employees']]\n",
    "print(\"\\n My Application Targets: \")\n",
    "print(target_info)"
   ]
  },
  {
   "cell_type": "code",
   "execution_count": 40,
   "id": "11029bda-f93c-4edc-844a-57307e5480b6",
   "metadata": {},
   "outputs": [
    {
     "name": "stdout",
     "output_type": "stream",
     "text": [
      "Company Size Statistics: \n",
      "count       5.000000\n",
      "mean     3820.000000\n",
      "std      3925.812018\n",
      "min       500.000000\n",
      "25%       600.000000\n",
      "50%      2000.000000\n",
      "75%      7000.000000\n",
      "max      9000.000000\n",
      "Name: Employees, dtype: float64\n",
      "\n",
      "Industry distribution: \n",
      "Industry\n",
      "Music      2\n",
      "Fintech    2\n",
      "Gaming     1\n",
      "Name: count, dtype: int64\n",
      "\n",
      "📊 Average Founding Year by Industry:\n",
      "Industry\n",
      "Fintech    2007.5\n",
      "Gaming     2003.0\n",
      "Music      2007.5\n",
      "Name: Founded, dtype: float64\n"
     ]
    }
   ],
   "source": [
    "# Satatistics \n",
    "print(\"Company Size Statistics: \")\n",
    "print(df['Employees'].describe())\n",
    "print(\"\\nIndustry distribution: \")\n",
    "print(df['Industry'].value_counts())\n",
    "print(\"\\n📊 Average Founding Year by Industry:\")\n",
    "print(df.groupby('Industry')['Founded'].mean())"
   ]
  },
  {
   "cell_type": "code",
   "execution_count": 49,
   "id": "06a0eb26-b598-41ef-b092-00146eda2d02",
   "metadata": {},
   "outputs": [
    {
     "data": {
      "image/png": "[encoded data removed]",
      "text/plain": [
       "<Figure size 1000x600 with 1 Axes>"
      ]
     },
     "metadata": {},
     "output_type": "display_data"
    },
    {
     "name": "stdout",
     "output_type": "stream",
     "text": [
      "Created bmy first day visualization\n"
     ]
    }
   ],
   "source": [
    "# Simple bar chart\n",
    "plt.figure(figsize=(10,6))\n",
    "plt.bar(df['Company'], df['Employees'])\n",
    "plt.title('Target companies by employee count ')\n",
    "plt.xlabel(\"Company\")\n",
    "plt.ylabel('Employees')\n",
    "plt.xticks(rotation=45)\n",
    "plt.tight_layout()\n",
    "plt.show()\n",
    "\n",
    "print(\"Created my first day visualization\")"
   ]
  },
  {
   "cell_type": "code",
   "execution_count": null,
   "id": "79abc37a-9c42-4771-9e33-b86d2a5b0b02",
   "metadata": {},
   "outputs": [],
   "source": []
  }
 ],
 "metadata": {
  "kernelspec": {
   "display_name": "Python 3 (ipykernel)",
   "language": "python",
   "name": "python3"
  },
  "language_info": {
   "codemirror_mode": {
    "name": "ipython",
    "version": 3
   },
   "file_extension": ".py",
   "mimetype": "text/x-python",
   "name": "python",
   "nbconvert_exporter": "python",
   "pygments_lexer": "ipython3",
   "version": "3.14.0"
  }
 },
 "nbformat": 4,
 "nbformat_minor": 5
}
